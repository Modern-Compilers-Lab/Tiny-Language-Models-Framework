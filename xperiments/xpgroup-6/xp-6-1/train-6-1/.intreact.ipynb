{
 "cells": [
  {
   "cell_type": "code",
   "execution_count": 5,
   "metadata": {},
   "outputs": [],
   "source": [
    "import numpy as np\n",
    "import torch"
   ]
  },
  {
   "cell_type": "code",
   "execution_count": 2,
   "metadata": {},
   "outputs": [],
   "source": [
    "DDIR = \"/data/yb2618/Tiny-Language-Models-Framework/datasets/dataset-20/datapreps-20/dataprep-20-1/data-dp-20-1/\""
   ]
  },
  {
   "cell_type": "code",
   "execution_count": 2,
   "metadata": {},
   "outputs": [
    {
     "name": "stdout",
     "output_type": "stream",
     "text": [
      "vocab_size: 75\n"
     ]
    }
   ],
   "source": [
    "with open(DDIR+\"vocab_size.txt\", \"rb\") as f:\n",
    "\tvocab_size = int(f.read())\n",
    "print(f\"vocab_size: {vocab_size}\")"
   ]
  },
  {
   "cell_type": "code",
   "execution_count": 15,
   "metadata": {},
   "outputs": [],
   "source": [
    "train_data \t= np.memmap(DDIR+\"train.bin\", dtype = np.uint16, mode=\"r\")\n",
    "train_data \t= np.array(train_data)\n",
    "train_data = torch.from_numpy(train_data)"
   ]
  },
  {
   "cell_type": "code",
   "execution_count": 16,
   "metadata": {},
   "outputs": [],
   "source": [
    "batch_size = 5\n",
    "block_size = 10\n",
    "batch_nb_tokens = batch_size * block_size"
   ]
  },
  {
   "cell_type": "code",
   "execution_count": 19,
   "metadata": {},
   "outputs": [
    {
     "data": {
      "text/plain": [
       "tensor([ 1, 24, 50, 62, 54, 57, 57, 24, 29, 62, 53, 56, 56, 24, 44, 62, 29, 65,\n",
       "        54, 55, 60, 24, 12, 53, 53, 59, 15, 58, 58, 70, 24, 25, 38, 62, 53, 53,\n",
       "        61, 67, 29, 24, 25, 37, 62, 29, 65, 65, 44, 24, 25, 47],\n",
       "       dtype=torch.uint16)"
      ]
     },
     "execution_count": 19,
     "metadata": {},
     "output_type": "execute_result"
    }
   ],
   "source": [
    "batch_tokens_chunk = train_data[:batch_nb_tokens]\n",
    "batch_tokens_chunk"
   ]
  },
  {
   "cell_type": "code",
   "execution_count": 20,
   "metadata": {},
   "outputs": [
    {
     "data": {
      "text/plain": [
       "tensor([[ 1, 24, 50, 62, 54, 57, 57, 24, 29, 62],\n",
       "        [53, 56, 56, 24, 44, 62, 29, 65, 54, 55],\n",
       "        [60, 24, 12, 53, 53, 59, 15, 58, 58, 70],\n",
       "        [24, 25, 38, 62, 53, 53, 61, 67, 29, 24],\n",
       "        [25, 37, 62, 29, 65, 65, 44, 24, 25, 47]], dtype=torch.uint16)"
      ]
     },
     "execution_count": 20,
     "metadata": {},
     "output_type": "execute_result"
    }
   ],
   "source": [
    "batch_tokens_chunk[:batch_nb_tokens].view(batch_size, block_size)"
   ]
  }
 ],
 "metadata": {
  "kernelspec": {
   "display_name": "tinylm",
   "language": "python",
   "name": "python3"
  },
  "language_info": {
   "codemirror_mode": {
    "name": "ipython",
    "version": 3
   },
   "file_extension": ".py",
   "mimetype": "text/x-python",
   "name": "python",
   "nbconvert_exporter": "python",
   "pygments_lexer": "ipython3",
   "version": "3.11.9"
  }
 },
 "nbformat": 4,
 "nbformat_minor": 2
}
