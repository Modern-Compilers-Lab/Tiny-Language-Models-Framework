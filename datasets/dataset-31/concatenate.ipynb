{
 "cells": [
  {
   "cell_type": "code",
   "execution_count": 25,
   "metadata": {},
   "outputs": [],
   "source": [
    "import random"
   ]
  },
  {
   "cell_type": "code",
   "execution_count": 26,
   "metadata": {},
   "outputs": [],
   "source": [
    "with open('../dataset-28/data-ds-28/all_traced_snippets.txt', 'r') as f:\n",
    "\tstage_1 = f.read()\n",
    "stage_1 = stage_1.split('\\n\\n')[:-1]"
   ]
  },
  {
   "cell_type": "code",
   "execution_count": 27,
   "metadata": {},
   "outputs": [],
   "source": [
    "with open('../dataset-29/data-ds-29/all_traced_snippets.txt', 'r') as f:\n",
    "\tstage_2 = f.read()\n",
    "stage_2 = stage_2.split('\\n\\n')[:-1]"
   ]
  },
  {
   "cell_type": "code",
   "execution_count": 28,
   "metadata": {},
   "outputs": [],
   "source": [
    "with open('../dataset-30/data-ds-30/all_traced_snippets.txt', 'r') as f:\n",
    "\tstage_3 = f.read()\n",
    "stage_3 = stage_3.split('\\n\\n')[:-1]"
   ]
  },
  {
   "cell_type": "code",
   "execution_count": 29,
   "metadata": {},
   "outputs": [],
   "source": [
    "with open('./data-ds-31/arccp_traced_snippets.txt', 'r') as f:\n",
    "\tstage_4 = f.read()\n",
    "stage_4 = stage_4.split('\\n\\n')[:-1]"
   ]
  },
  {
   "cell_type": "code",
   "execution_count": 30,
   "metadata": {},
   "outputs": [],
   "source": [
    "stage_4 = stage_4 + random.sample(stage_3, k=200_000) + random.sample(stage_2, k=175_000) + random.sample(stage_1, k=75_000)"
   ]
  },
  {
   "cell_type": "code",
   "execution_count": 31,
   "metadata": {},
   "outputs": [],
   "source": [
    "random.shuffle(stage_4)"
   ]
  },
  {
   "cell_type": "code",
   "execution_count": 32,
   "metadata": {},
   "outputs": [],
   "source": [
    "examples = stage_1 + stage_2 + stage_3 + stage_4\n",
    "with open('./data-ds-31/traced_snippets.txt', 'w') as f:\n",
    "\tf.write('\\n\\n'.join(examples)+'\\n\\n')"
   ]
  },
  {
   "cell_type": "code",
   "execution_count": 33,
   "metadata": {},
   "outputs": [
    {
     "data": {
      "text/plain": [
       "9700000"
      ]
     },
     "execution_count": 33,
     "metadata": {},
     "output_type": "execute_result"
    }
   ],
   "source": [
    "len(examples)"
   ]
  }
 ],
 "metadata": {
  "kernelspec": {
   "display_name": "tinylm",
   "language": "python",
   "name": "python3"
  },
  "language_info": {
   "codemirror_mode": {
    "name": "ipython",
    "version": 3
   },
   "file_extension": ".py",
   "mimetype": "text/x-python",
   "name": "python",
   "nbconvert_exporter": "python",
   "pygments_lexer": "ipython3",
   "version": "3.11.9"
  }
 },
 "nbformat": 4,
 "nbformat_minor": 2
}
