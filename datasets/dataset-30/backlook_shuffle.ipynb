{
 "cells": [
  {
   "cell_type": "code",
   "execution_count": 1,
   "metadata": {},
   "outputs": [],
   "source": [
    "import random"
   ]
  },
  {
   "cell_type": "code",
   "execution_count": 2,
   "metadata": {},
   "outputs": [],
   "source": [
    "with open('./data-ds-30/aronly_traced_snippets.txt', 'r') as f:\n",
    "\taronly = f.read()\n",
    "aronly = aronly.split('\\n\\n')[:-1]"
   ]
  },
  {
   "cell_type": "code",
   "execution_count": 3,
   "metadata": {},
   "outputs": [],
   "source": [
    "with open('./data-ds-30/arccp_traced_snippets.txt', 'r') as f:\n",
    "\tarccp = f.read()\n",
    "arccp = arccp.split('\\n\\n')[:-1]"
   ]
  },
  {
   "cell_type": "code",
   "execution_count": 4,
   "metadata": {},
   "outputs": [],
   "source": [
    "with open('../dataset-28/data-ds-28/all_traced_snippets.txt', 'r') as f:\n",
    "\tstage_1 = f.read()\n",
    "stage_1 = stage_1.split('\\n\\n')[:-1]\n",
    "stage_1 = random.choices(stage_1, k=250_000)"
   ]
  },
  {
   "cell_type": "code",
   "execution_count": 6,
   "metadata": {},
   "outputs": [],
   "source": [
    "with open('../dataset-29/data-ds-29/all_traced_snippets.txt', 'r') as f:\n",
    "\tstage_2 = f.read()\n",
    "stage_2 = stage_2.split('\\n\\n')[:-1]\n",
    "stage_2 = random.choices(stage_2, k=750_000)"
   ]
  },
  {
   "cell_type": "code",
   "execution_count": 7,
   "metadata": {},
   "outputs": [],
   "source": [
    "examples = aronly + arccp + stage_1 + stage_2\n",
    "random.shuffle(examples)\n",
    "with open('./data-ds-30/all_traced_snippets.txt', 'w') as f:\n",
    "\tf.write('\\n\\n'.join(examples)+'\\n\\n')"
   ]
  }
 ],
 "metadata": {
  "kernelspec": {
   "display_name": "tinylm",
   "language": "python",
   "name": "python3"
  },
  "language_info": {
   "codemirror_mode": {
    "name": "ipython",
    "version": 3
   },
   "file_extension": ".py",
   "mimetype": "text/x-python",
   "name": "python",
   "nbconvert_exporter": "python",
   "pygments_lexer": "ipython3",
   "version": "3.11.9"
  }
 },
 "nbformat": 4,
 "nbformat_minor": 2
}
