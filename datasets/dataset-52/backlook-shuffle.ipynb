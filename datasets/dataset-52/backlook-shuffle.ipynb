{
 "cells": [
  {
   "cell_type": "code",
   "execution_count": 7,
   "metadata": {},
   "outputs": [],
   "source": [
    "import random\n",
    "random.seed(42)"
   ]
  },
  {
   "cell_type": "code",
   "execution_count": 8,
   "metadata": {},
   "outputs": [
    {
     "name": "stdout",
     "output_type": "stream",
     "text": [
      "arccp_stg1 2250000\n",
      "aronly_stg1 750000\n",
      "stg1 3000000\n"
     ]
    }
   ],
   "source": [
    "with open(\"./stage-1/data-ds-stage-1/arccp_direct_output_snippets.txt\") as f:\n",
    "\tarccp_stg1 = f.read()\n",
    "arccp_stg1_h1 = arccp_stg1.split(\"\\n\\n\")[:-1]\n",
    "with open(\"/data/yb2618/Tiny-Language-Models-Framework/datasets/dataset-28/data-ds-28/arccp_direct_output_snippets.txt\") as f:\n",
    "\tarccp_stg1 = f.read()\n",
    "arccp_stg1_h2 = arccp_stg1.split(\"\\n\\n\")[:-1]\n",
    "with open(\"/data/yb2618/Tiny-Language-Models-Framework/datasets/dataset-44/stage-1/data-ds-stage-1/arccp_direct_output_snippets.txt\") as f:\n",
    "\tarccp_stg1 = f.read()\n",
    "arccp_stg1_h3 = arccp_stg1.split(\"\\n\\n\")[:-1]\n",
    "arccp_stg1 = arccp_stg1_h1 + arccp_stg1_h2 + arccp_stg1_h3\n",
    "print(\"arccp_stg1\", len(arccp_stg1))\n",
    "with open(\"./stage-1/data-ds-stage-1/aronly_direct_output_snippets.txt\") as f:\n",
    "\taronly_stg1 = f.read()\n",
    "aronly_stg1_h1 = aronly_stg1.split(\"\\n\\n\")[:-1]\n",
    "with open(\"/data/yb2618/Tiny-Language-Models-Framework/datasets/dataset-28/data-ds-28/aronly_direct_output_snippets.txt\") as f:\n",
    "\taronly_stg1 = f.read()\n",
    "aronly_stg1_h2 = aronly_stg1.split(\"\\n\\n\")[:-1]\n",
    "with open(\"/data/yb2618/Tiny-Language-Models-Framework/datasets/dataset-44/stage-1/data-ds-stage-1/aronly_direct_output_snippets.txt\") as f:\n",
    "\taronly_stg1 = f.read()\n",
    "aronly_stg1_h3 = aronly_stg1.split(\"\\n\\n\")[:-1]\n",
    "aronly_stg1 = aronly_stg1_h1 + aronly_stg1_h2 + aronly_stg1_h3\n",
    "print(\"aronly_stg1\", len(aronly_stg1))\n",
    "stg1 = arccp_stg1 + aronly_stg1\n",
    "random.shuffle(stg1)\n",
    "print(\"stg1\", len(stg1))"
   ]
  },
  {
   "cell_type": "code",
   "execution_count": 9,
   "metadata": {},
   "outputs": [
    {
     "name": "stdout",
     "output_type": "stream",
     "text": [
      "arccp_stg2 4500000\n",
      "aronly_stg2 1500000\n",
      "stg2 6300000\n"
     ]
    }
   ],
   "source": [
    "with open(\"./stage-2/data-ds-stage-2/arccp_direct_output_snippets.txt\") as f:\n",
    "\tarccp_stg2 = f.read()\n",
    "arccp_stg2_h1 = arccp_stg2.split(\"\\n\\n\")[:-1]\n",
    "with open(\"/data/yb2618/Tiny-Language-Models-Framework/datasets/dataset-29/data-ds-29/arccp_direct_output_snippets.txt\") as f:\n",
    "\tarccp_stg2 = f.read()\n",
    "arccp_stg2_h2 = arccp_stg2.split(\"\\n\\n\")[:-1]\n",
    "with open(\"/data/yb2618/Tiny-Language-Models-Framework/datasets/dataset-44/stage-2/data-ds-stage-2/arccp_direct_output_snippets.txt\") as f:\n",
    "\tarccp_stg2 = f.read()\n",
    "arccp_stg2_h3 = arccp_stg2.split(\"\\n\\n\")[:-1]\n",
    "arccp_stg2 = arccp_stg2_h1 + arccp_stg2_h2 + arccp_stg2_h3\n",
    "print(\"arccp_stg2\", len(arccp_stg2))\n",
    "with open(\"./stage-2/data-ds-stage-2/aronly_direct_output_snippets.txt\") as f:\n",
    "\taronly_stg2 = f.read()\n",
    "aronly_stg2_h1 = aronly_stg2.split(\"\\n\\n\")[:-1]\n",
    "with open(\"/data/yb2618/Tiny-Language-Models-Framework/datasets/dataset-29/data-ds-29/aronly_direct_output_snippets.txt\") as f:\n",
    "\taronly_stg2 = f.read()\n",
    "aronly_stg2_h2 = aronly_stg2.split(\"\\n\\n\")[:-1]\n",
    "with open(\"/data/yb2618/Tiny-Language-Models-Framework/datasets/dataset-44/stage-2/data-ds-stage-2/aronly_direct_output_snippets.txt\") as f:\n",
    "\taronly_stg2 = f.read()\n",
    "aronly_stg2_h3 = aronly_stg2.split(\"\\n\\n\")[:-1]\n",
    "aronly_stg2 = aronly_stg2_h1 + aronly_stg2_h2 + aronly_stg2_h3\n",
    "print(\"aronly_stg2\", len(aronly_stg2))\n",
    "stg2 = arccp_stg2 + aronly_stg2 + random.sample(stg1, 300_000)\n",
    "random.shuffle(stg2)\n",
    "print(\"stg2\", len(stg2))"
   ]
  },
  {
   "cell_type": "code",
   "execution_count": 10,
   "metadata": {},
   "outputs": [
    {
     "name": "stdout",
     "output_type": "stream",
     "text": [
      "arccp_stg3 6000000\n",
      "aronly_stg3 3000000\n",
      "stg3 9450000\n"
     ]
    }
   ],
   "source": [
    "with open(\"./stage-3/data-ds-stage-3/arccp_direct_output_snippets.txt\") as f:\n",
    "\tarccp_stg3 = f.read()\n",
    "arccp_stg3_h1 = arccp_stg3.split(\"\\n\\n\")[:-1]\n",
    "with open(\"/data/yb2618/Tiny-Language-Models-Framework/datasets/dataset-30/data-ds-30/arccp_direct_output_snippets.txt\") as f:\n",
    "\tarccp_stg3 = f.read()\n",
    "arccp_stg3_h2 = arccp_stg3.split(\"\\n\\n\")[:-1]\n",
    "with open(\"/data/yb2618/Tiny-Language-Models-Framework/datasets/dataset-44/stage-3/data-ds-stage-3/arccp_direct_output_snippets.txt\") as f:\n",
    "\tarccp_stg3 = f.read()\n",
    "arccp_stg3_h3 = arccp_stg3.split(\"\\n\\n\")[:-1]\n",
    "arccp_stg3 = arccp_stg3_h1 + arccp_stg3_h2 + arccp_stg3_h3\n",
    "print(\"arccp_stg3\", len(arccp_stg3))\n",
    "with open(\"./stage-3/data-ds-stage-3/aronly_direct_output_snippets.txt\") as f:\n",
    "\taronly_stg3 = f.read()\n",
    "aronly_stg3_h1 = aronly_stg3.split(\"\\n\\n\")[:-1]\n",
    "with open(\"/data/yb2618/Tiny-Language-Models-Framework/datasets/dataset-30/data-ds-30/aronly_direct_output_snippets.txt\") as f:\n",
    "\taronly_stg3 = f.read()\n",
    "aronly_stg3_h2 = aronly_stg3.split(\"\\n\\n\")[:-1]\n",
    "with open(\"/data/yb2618/Tiny-Language-Models-Framework/datasets/dataset-44/stage-3/data-ds-stage-3/aronly_direct_output_snippets.txt\") as f:\n",
    "\taronly_stg3 = f.read()\n",
    "aronly_stg3_h3 = aronly_stg3.split(\"\\n\\n\")[:-1]\n",
    "aronly_stg3 = aronly_stg3_h1 + aronly_stg3_h2 + aronly_stg3_h3\n",
    "print(\"aronly_stg3\", len(aronly_stg3))\n",
    "stg3 = arccp_stg3 + aronly_stg3 + random.sample(stg2, 300_000) + random.sample(stg1, 150_000)\n",
    "random.shuffle(stg3)\n",
    "print(\"stg3\", len(stg3))"
   ]
  },
  {
   "cell_type": "code",
   "execution_count": 11,
   "metadata": {},
   "outputs": [
    {
     "name": "stdout",
     "output_type": "stream",
     "text": [
      "arccp_stg4 9000000\n",
      "stg4 10350000\n"
     ]
    }
   ],
   "source": [
    "with open(\"./stage-4/data-ds-stage-4/arccp_direct_output_snippets.txt\") as f:\n",
    "\tarccp_stg4 = f.read()\n",
    "arccp_stg4_h1 = arccp_stg4.split(\"\\n\\n\")[:-1]\n",
    "with open(\"/data/yb2618/Tiny-Language-Models-Framework/datasets/dataset-31/data-ds-31/arccp_direct_output_snippets.txt\") as f:\n",
    "\tarccp_stg4 = f.read()\n",
    "arccp_stg4_h2 = arccp_stg4.split(\"\\n\\n\")[:-1]\n",
    "with open(\"/data/yb2618/Tiny-Language-Models-Framework/datasets/dataset-44/stage-4/data-ds-stage-4/arccp_direct_output_snippets.txt\") as f:\n",
    "\tarccp_stg4 = f.read()\n",
    "arccp_stg4_h3 = arccp_stg4.split(\"\\n\\n\")[:-1]\n",
    "arccp_stg4 = arccp_stg4_h1 + arccp_stg4_h2 + arccp_stg4_h3\n",
    "print(\"arccp_stg4\", len(arccp_stg4))\n",
    "stg4 = arccp_stg4 + random.sample(stg3, 600_000) + random.sample(stg2, 525_000) + random.sample(stg1, 225_000)\n",
    "random.shuffle(stg4)\n",
    "print(\"stg4\", len(stg4))"
   ]
  },
  {
   "cell_type": "code",
   "execution_count": 13,
   "metadata": {},
   "outputs": [],
   "source": [
    "examples = stg1 + stg2 + stg3 + stg4\n",
    "with open(\"./data-ds-52/direct_output_snippets.txt\", \"w\") as f:\n",
    "\tf.write(\"\\n\\n\".join(examples)+\"\\n\\n\")"
   ]
  },
  {
   "cell_type": "code",
   "execution_count": 14,
   "metadata": {},
   "outputs": [
    {
     "data": {
      "text/plain": [
       "29100000"
      ]
     },
     "execution_count": 14,
     "metadata": {},
     "output_type": "execute_result"
    }
   ],
   "source": [
    "len(examples)"
   ]
  },
  {
   "cell_type": "code",
   "execution_count": 9,
   "metadata": {},
   "outputs": [],
   "source": [
    "all = \"\\n\\n\".join(examples)+\"\\n\\n\""
   ]
  },
  {
   "cell_type": "code",
   "execution_count": 10,
   "metadata": {},
   "outputs": [
    {
     "data": {
      "text/plain": [
       "False"
      ]
     },
     "execution_count": 10,
     "metadata": {},
     "output_type": "execute_result"
    }
   ],
   "source": [
    "\"a + z\" in all"
   ]
  }
 ],
 "metadata": {
  "kernelspec": {
   "display_name": "tinylm",
   "language": "python",
   "name": "python3"
  },
  "language_info": {
   "codemirror_mode": {
    "name": "ipython",
    "version": 3
   },
   "file_extension": ".py",
   "mimetype": "text/x-python",
   "name": "python",
   "nbconvert_exporter": "python",
   "pygments_lexer": "ipython3",
   "version": "3.11.9"
  }
 },
 "nbformat": 4,
 "nbformat_minor": 2
}
