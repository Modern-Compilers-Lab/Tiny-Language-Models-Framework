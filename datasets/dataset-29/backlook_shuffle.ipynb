{
 "cells": [
  {
   "cell_type": "code",
   "execution_count": 17,
   "metadata": {},
   "outputs": [],
   "source": [
    "import random"
   ]
  },
  {
   "cell_type": "code",
   "execution_count": 18,
   "metadata": {},
   "outputs": [],
   "source": [
    "with open('./data-ds-29/aronly_traced_snippets.txt', 'r') as f:\n",
    "\taronly = f.read()\n",
    "aronly = aronly.split('\\n\\n')[:-1]"
   ]
  },
  {
   "cell_type": "code",
   "execution_count": 19,
   "metadata": {},
   "outputs": [],
   "source": [
    "with open('./data-ds-29/arccp_traced_snippets.txt', 'r') as f:\n",
    "\tarccp = f.read()\n",
    "arccp = arccp.split('\\n\\n')[:-1]"
   ]
  },
  {
   "cell_type": "code",
   "execution_count": 20,
   "metadata": {},
   "outputs": [],
   "source": [
    "with open('../dataset-28/data-ds-28/all_traced_snippets.txt', 'r') as f:\n",
    "\tstage_1 = f.read()\n",
    "stage_1 = stage_1.split('\\n\\n')[:-1]\n",
    "stage_1 = random.sample(stage_1, k=100_000)"
   ]
  },
  {
   "cell_type": "code",
   "execution_count": 22,
   "metadata": {},
   "outputs": [],
   "source": [
    "examples = aronly + arccp + stage_1\n",
    "random.shuffle(examples)\n",
    "with open('./data-ds-29/all_traced_snippets.txt', 'w') as f:\n",
    "\tf.write('\\n\\n'.join(examples)+'\\n\\n')"
   ]
  },
  {
   "cell_type": "code",
   "execution_count": 23,
   "metadata": {},
   "outputs": [
    {
     "data": {
      "text/plain": [
       "2100000"
      ]
     },
     "execution_count": 23,
     "metadata": {},
     "output_type": "execute_result"
    }
   ],
   "source": [
    "len(examples)"
   ]
  }
 ],
 "metadata": {
  "kernelspec": {
   "display_name": "tinylm",
   "language": "python",
   "name": "python3"
  },
  "language_info": {
   "codemirror_mode": {
    "name": "ipython",
    "version": 3
   },
   "file_extension": ".py",
   "mimetype": "text/x-python",
   "name": "python",
   "nbconvert_exporter": "python",
   "pygments_lexer": "ipython3",
   "version": "3.11.9"
  }
 },
 "nbformat": 4,
 "nbformat_minor": 2
}
