{
 "cells": [
  {
   "cell_type": "code",
   "execution_count": 1,
   "metadata": {},
   "outputs": [],
   "source": [
    "import random"
   ]
  },
  {
   "cell_type": "code",
   "execution_count": 2,
   "metadata": {},
   "outputs": [
    {
     "name": "stdout",
     "output_type": "stream",
     "text": [
      "arccp_stg1 187500\n",
      "aronly_stg1 62500\n",
      "stg1 250000\n"
     ]
    }
   ],
   "source": [
    "with open(\"./stage-1/data-ds-stage-1/arccp_direct_output_snippets.txt\") as f:\n",
    "\tarccp_stg1 = f.read()\n",
    "arccp_stg1 = arccp_stg1.split(\"\\n\\n\")[:-1]\n",
    "print(\"arccp_stg1\", len(arccp_stg1))\n",
    "with open(\"./stage-1/data-ds-stage-1/aronly_direct_output_snippets.txt\") as f:\n",
    "\taronly_stg1 = f.read()\n",
    "aronly_stg1 = aronly_stg1.split(\"\\n\\n\")[:-1]\n",
    "print(\"aronly_stg1\", len(aronly_stg1))\n",
    "stg1 = arccp_stg1 + aronly_stg1\n",
    "random.shuffle(stg1)\n",
    "print(\"stg1\", len(stg1))"
   ]
  },
  {
   "cell_type": "code",
   "execution_count": 3,
   "metadata": {},
   "outputs": [
    {
     "name": "stdout",
     "output_type": "stream",
     "text": [
      "arccp_stg2 375000\n",
      "aronly_stg2 125000\n"
     ]
    },
    {
     "name": "stdout",
     "output_type": "stream",
     "text": [
      "stg2 525000\n"
     ]
    }
   ],
   "source": [
    "with open(\"./stage-2/data-ds-stage-2/arccp_direct_output_snippets.txt\") as f:\n",
    "\tarccp_stg2 = f.read()\n",
    "arccp_stg2 = arccp_stg2.split(\"\\n\\n\")[:-1]\n",
    "print(\"arccp_stg2\", len(arccp_stg2))\n",
    "with open(\"./stage-2/data-ds-stage-2/aronly_direct_output_snippets.txt\") as f:\n",
    "\taronly_stg2 = f.read()\n",
    "aronly_stg2 = aronly_stg2.split(\"\\n\\n\")[:-1]\n",
    "print(\"aronly_stg2\", len(aronly_stg2))\n",
    "stg2 = arccp_stg2 + aronly_stg2 + random.sample(stg1, 25_000)\n",
    "random.shuffle(stg2)\n",
    "print(\"stg2\", len(stg2))"
   ]
  },
  {
   "cell_type": "code",
   "execution_count": 4,
   "metadata": {},
   "outputs": [
    {
     "name": "stdout",
     "output_type": "stream",
     "text": [
      "arccp_stg3"
     ]
    },
    {
     "name": "stdout",
     "output_type": "stream",
     "text": [
      " 500000\n",
      "aronly_stg3 250000\n",
      "stg3 787500\n"
     ]
    }
   ],
   "source": [
    "with open(\"./stage-3/data-ds-stage-3/arccp_direct_output_snippets.txt\") as f:\n",
    "\tarccp_stg3 = f.read()\n",
    "arccp_stg3 = arccp_stg3.split(\"\\n\\n\")[:-1]\n",
    "print(\"arccp_stg3\", len(arccp_stg3))\n",
    "with open(\"./stage-3/data-ds-stage-3/aronly_direct_output_snippets.txt\") as f:\n",
    "\taronly_stg3 = f.read()\n",
    "aronly_stg3 = aronly_stg3.split(\"\\n\\n\")[:-1]\n",
    "print(\"aronly_stg3\", len(aronly_stg3))\n",
    "stg3 = arccp_stg3 + aronly_stg3 + random.sample(stg2, 25_000) + random.sample(stg1, 12_500)\n",
    "random.shuffle(stg3)\n",
    "print(\"stg3\", len(stg3))"
   ]
  },
  {
   "cell_type": "code",
   "execution_count": 5,
   "metadata": {},
   "outputs": [
    {
     "name": "stdout",
     "output_type": "stream",
     "text": [
      "arccp_stg4 750000\n",
      "stg4 912500\n"
     ]
    }
   ],
   "source": [
    "with open(\"./stage-4/data-ds-stage-4/arccp_direct_output_snippets.txt\") as f:\n",
    "\tarccp_stg4 = f.read()\n",
    "arccp_stg4 = arccp_stg4.split(\"\\n\\n\")[:-1]\n",
    "print(\"arccp_stg4\", len(arccp_stg4))\n",
    "stg4 = arccp_stg4 + random.sample(stg3, 100_000) + random.sample(stg2, 43_750) + random.sample(stg1, 18_750)\n",
    "random.shuffle(stg4)\n",
    "print(\"stg4\", len(stg4))"
   ]
  },
  {
   "cell_type": "code",
   "execution_count": 7,
   "metadata": {},
   "outputs": [],
   "source": [
    "examples = stg1 + stg2 + stg3 + stg4\n",
    "with open(\"./data-ds-46/direct_output_snippets.txt\", \"w\") as f:\n",
    "\tf.write(\"\\n\\n\".join(examples)+\"\\n\\n\")"
   ]
  },
  {
   "cell_type": "code",
   "execution_count": 8,
   "metadata": {},
   "outputs": [
    {
     "data": {
      "text/plain": [
       "2475000"
      ]
     },
     "execution_count": 8,
     "metadata": {},
     "output_type": "execute_result"
    }
   ],
   "source": [
    "len(examples)"
   ]
  }
 ],
 "metadata": {
  "kernelspec": {
   "display_name": "tinylm",
   "language": "python",
   "name": "python3"
  },
  "language_info": {
   "codemirror_mode": {
    "name": "ipython",
    "version": 3
   },
   "file_extension": ".py",
   "mimetype": "text/x-python",
   "name": "python",
   "nbconvert_exporter": "python",
   "pygments_lexer": "ipython3",
   "version": "3.11.9"
  }
 },
 "nbformat": 4,
 "nbformat_minor": 2
}
